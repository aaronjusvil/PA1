{
 "cells": [
  {
   "cell_type": "code",
   "execution_count": 57,
   "id": "1b916617-356a-4c4e-929a-09f60d3a6a2d",
   "metadata": {},
   "outputs": [
    {
     "name": "stdin",
     "output_type": "stream",
     "text": [
      "Input word:  alphabet\n"
     ]
    },
    {
     "name": "stdout",
     "output_type": "stream",
     "text": [
      "Sorted word:  aabehlpt\n"
     ]
    }
   ],
   "source": [
    "#Defining the function\n",
    "def alphabet_soup(x):\n",
    "    return(''.join(sorted(x))) \n",
    "    #When word 'x' is defined by user input, the letters are separated, sorted, and joined together again by connector '', then returned\n",
    "\n",
    "#User inputs a word\n",
    "Word = input(\"Input word: \")\n",
    "\n",
    "#The inputted word is put in the alphabet soup function as 'x', sorting it and assigning it to another variable\n",
    "Sorted_word = alphabet_soup(Word)\n",
    "\n",
    "#Prints the alphabetized word\n",
    "print(\"Sorted word: \", Sorted_word)"
   ]
  },
  {
   "cell_type": "code",
   "execution_count": 49,
   "id": "93c4527f-df6e-4b25-8cc0-5ef3080982a8",
   "metadata": {},
   "outputs": [
    {
     "name": "stdin",
     "output_type": "stream",
     "text": [
      "Input sentence:  I'm so mad\n"
     ]
    },
    {
     "name": "stdout",
     "output_type": "stream",
     "text": [
      "Emotified Sentence:  I'm so >:(\n"
     ]
    }
   ],
   "source": [
    "#Defining the function\n",
    "def emotify(y):\n",
    "    y=y.replace(\"smile\", \":)\")\n",
    "    y=y.replace(\"grin\", \":D\")\n",
    "    y=y.replace(\"sad\", \":(\")\n",
    "    y=y.replace(\"mad\", \">:(\")\n",
    "    #If there are the words \"Smile\", \"grin\", \"sad\", \"mad\" in the sentence 'y', a new sentence is created transforming those words into emoticons\n",
    "    #That new sentence is then assigned to 'y'\n",
    "    return(y)\n",
    "\n",
    "#Ask users to input a sentence\n",
    "Sentence = input(\"Input sentence: \")\n",
    "\n",
    "#Emotify the sentence using the function and assign it to another variable\n",
    "Emotified_sentence = emotify(Sentence)\n",
    "#Print the emotified sentence\n",
    "\n",
    "print(\"Emotified Sentence: \", Emotified_sentence)"
   ]
  },
  {
   "cell_type": "code",
   "execution_count": 62,
   "id": "d246bf52-bf62-40ad-995c-60763b02c940",
   "metadata": {},
   "outputs": [
    {
     "name": "stdin",
     "output_type": "stream",
     "text": [
      "Enter numbers with spaces in between:  1 2 3 4 5 6 7 8 9 10\n"
     ]
    },
    {
     "name": "stdout",
     "output_type": "stream",
     "text": [
      "first:  1 \tmiddle:  ['2', '3', '4', '5', '6', '7', '8', '9'] \tlast:  10\n"
     ]
    }
   ],
   "source": [
    "#Ask users to input a set of numbers separated by spaces\n",
    "List = input(\"Enter numbers with spaces in between: \")\n",
    "\n",
    "#Splits the set into individual strings, turning it into a list\n",
    "Newlist = List.split()\n",
    "\n",
    "#The list has to have 3 or more digits, in order to have a first, middle, and last\n",
    "if len(Newlist) >=3:\n",
    "     first, *middle, last = Newlist #unpacks the list into three. First takes the first digit, and last takes the last, middle takes everything in between\n",
    "     print (\"first: \", first, \"\\tmiddle: \", middle, \"\\tlast: \", last)#prints all parts side by side, separated and labeled\n",
    "else:\n",
    "     print(\"Input 3 or more digits\")#if the inputted list does not have 3 or more digits, an error message will appear"
   ]
  }
 ],
 "metadata": {
  "kernelspec": {
   "display_name": "Python [conda env:base] *",
   "language": "python",
   "name": "conda-base-py"
  },
  "language_info": {
   "codemirror_mode": {
    "name": "ipython",
    "version": 3
   },
   "file_extension": ".py",
   "mimetype": "text/x-python",
   "name": "python",
   "nbconvert_exporter": "python",
   "pygments_lexer": "ipython3",
   "version": "3.13.5"
  }
 },
 "nbformat": 4,
 "nbformat_minor": 5
}
